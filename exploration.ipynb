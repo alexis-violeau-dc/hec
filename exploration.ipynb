{
 "cells": [
  {
   "cell_type": "code",
   "execution_count": null,
   "metadata": {},
   "outputs": [],
   "source": [
    "from pathlib import Path\n",
    "import pandas as pd\n",
    "import plotly.express as px\n",
    "from sklearn.metrics.pairwise import haversine_distances\n",
    "import numpy as np\n",
    "from datetime import datetime"
   ]
  },
  {
   "cell_type": "markdown",
   "metadata": {},
   "source": [
    "# 1. Loading the data"
   ]
  },
  {
   "cell_type": "code",
   "execution_count": null,
   "metadata": {},
   "outputs": [],
   "source": [
    "DATA_PATH = Path(\"data\")\n",
    "WEATHER_DATA_PATH = DATA_PATH / \"RR59\""
   ]
  },
  {
   "cell_type": "code",
   "execution_count": null,
   "metadata": {},
   "outputs": [],
   "source": [
    "weather_data = pd.read_csv(\n",
    "    WEATHER_DATA_PATH / \"Q_59_previous-1950-2022_RR-T-Vent.csv\",\n",
    "    sep=\";\",\n",
    "    parse_dates=[\"AAAAMMJJ\"],\n",
    ")"
   ]
  },
  {
   "cell_type": "code",
   "execution_count": null,
   "metadata": {},
   "outputs": [],
   "source": [
    "weather_data.info()"
   ]
  },
  {
   "cell_type": "code",
   "execution_count": null,
   "metadata": {},
   "outputs": [],
   "source": [
    "weather_data.head(5)"
   ]
  },
  {
   "cell_type": "markdown",
   "metadata": {},
   "source": [
    "# 2. Exploratory data analysis"
   ]
  },
  {
   "cell_type": "markdown",
   "metadata": {},
   "source": [
    "## 2.a Compute weather data distribution"
   ]
  },
  {
   "cell_type": "code",
   "execution_count": null,
   "metadata": {},
   "outputs": [],
   "source": [
    "weather_data.describe()"
   ]
  },
  {
   "cell_type": "markdown",
   "metadata": {},
   "source": [
    "## 2.b Identify extremum values for each station"
   ]
  },
  {
   "cell_type": "code",
   "execution_count": null,
   "metadata": {},
   "outputs": [],
   "source": [
    "station_info = weather_data.groupby(\"NOM_USUEL\", as_index=False).agg(\n",
    "    START_DATE=(\"AAAAMMJJ\", \"min\"),\n",
    "    END_DATE=(\"AAAAMMJJ\", \"max\"),\n",
    "    MAXRR=(\"RR\", \"max\"),\n",
    "    MINRR=(\"RR\", \"min\"),\n",
    "    LAT=(\"LAT\", \"mean\"),\n",
    "    LON=(\"LON\", \"mean\"),\n",
    ")\n",
    "station_info[\"DURATION\"] = (\n",
    "    station_info[\"END_DATE\"] - station_info[\"START_DATE\"]\n",
    ").dt.days"
   ]
  },
  {
   "cell_type": "code",
   "execution_count": null,
   "metadata": {},
   "outputs": [],
   "source": [
    "map = px.scatter_mapbox(\n",
    "    station_info,\n",
    "    lat=\"LAT\",\n",
    "    lon=\"LON\",\n",
    "    hover_data=[\"MAXRR\", \"MINRR\", \"NOM_USUEL\"],\n",
    "    color=\"MAXRR\",\n",
    "    color_continuous_scale=\"Jet\",\n",
    "    size=\"DURATION\",\n",
    ")\n",
    "map.update_layout(mapbox_style=\"carto-positron\", height=1200)"
   ]
  },
  {
   "cell_type": "markdown",
   "metadata": {},
   "source": [
    "## 2.c Display RR distribution for each station"
   ]
  },
  {
   "cell_type": "code",
   "execution_count": null,
   "metadata": {},
   "outputs": [],
   "source": [
    "weather_data.groupby(\"NOM_USUEL\")[\"RR\"].describe()"
   ]
  },
  {
   "cell_type": "code",
   "execution_count": null,
   "metadata": {},
   "outputs": [],
   "source": [
    "weather_data[weather_data[\"RR\"] > 0].plot(\n",
    "    kind=\"hist\",\n",
    "    color=\"NOM_USUEL\",\n",
    "    x=\"RR\",\n",
    "    backend=\"plotly\",\n",
    "    barmode=\"overlay\",\n",
    "    log_x=True,\n",
    "    histnorm=\"probability\",\n",
    "    # cumulative = True\n",
    ")"
   ]
  },
  {
   "cell_type": "markdown",
   "metadata": {},
   "source": [
    "# 3. Explore correlation between stations"
   ]
  },
  {
   "cell_type": "markdown",
   "metadata": {},
   "source": [
    "## 3.1 Align data on same datetime"
   ]
  },
  {
   "cell_type": "code",
   "execution_count": null,
   "metadata": {},
   "outputs": [],
   "source": [
    "weather_ts = weather_data.pivot_table(\n",
    "    columns=\"NOM_USUEL\", index=\"AAAAMMJJ\", values=\"RR\"\n",
    ")"
   ]
  },
  {
   "cell_type": "code",
   "execution_count": null,
   "metadata": {},
   "outputs": [],
   "source": [
    "weather_ts.loc[datetime(2000, 1, 1) : datetime(2000, 1, 30)].plot(backend=\"plotly\")"
   ]
  },
  {
   "cell_type": "markdown",
   "metadata": {},
   "source": [
    "## 3.2 Compute pairwise correlation between timeseries"
   ]
  },
  {
   "cell_type": "code",
   "execution_count": null,
   "metadata": {},
   "outputs": [],
   "source": [
    "correlation_matrix = weather_ts.corr()"
   ]
  },
  {
   "cell_type": "code",
   "execution_count": null,
   "metadata": {},
   "outputs": [],
   "source": [
    "px.imshow(correlation_matrix, width=1800, height=1200, color_continuous_scale=\"Jet\")"
   ]
  },
  {
   "cell_type": "code",
   "execution_count": null,
   "metadata": {},
   "outputs": [],
   "source": [
    "spearman_correlation_matrix = weather_ts.corr(method=\"spearman\")"
   ]
  },
  {
   "cell_type": "code",
   "execution_count": null,
   "metadata": {},
   "outputs": [],
   "source": [
    "px.imshow(\n",
    "    spearman_correlation_matrix, width=1800, height=1200, color_continuous_scale=\"Jet\"\n",
    ")"
   ]
  },
  {
   "cell_type": "markdown",
   "metadata": {},
   "source": [
    "## 3.c Compare correlation to distance between stations"
   ]
  },
  {
   "cell_type": "code",
   "execution_count": null,
   "metadata": {},
   "outputs": [],
   "source": [
    "coords_in_radian = station_info[[\"LAT\", \"LON\"]].values * np.pi / 180\n",
    "\n",
    "distance_in_radians = haversine_distances(coords_in_radian)\n",
    "distance_in_km = pd.DataFrame(\n",
    "    data=distance_in_radians * 6_371,\n",
    "    index=pd.Index(station_info[\"NOM_USUEL\"]),\n",
    "    columns=pd.Index(station_info[\"NOM_USUEL\"]),\n",
    ")"
   ]
  },
  {
   "cell_type": "code",
   "execution_count": null,
   "metadata": {},
   "outputs": [],
   "source": [
    "px.imshow(distance_in_km, width=1800, height=1200, color_continuous_scale=\"Jet\")"
   ]
  },
  {
   "cell_type": "code",
   "execution_count": null,
   "metadata": {},
   "outputs": [],
   "source": [
    "correlation_serie = correlation_matrix.melt(\n",
    "    ignore_index=False, value_name=\"Correlation\", var_name=\"NOM_USUEL_2\"\n",
    ").set_index(\"NOM_USUEL_2\", append=True)\n",
    "\n",
    "distance_serie = distance_in_km.melt(\n",
    "    ignore_index=False, value_name=\"Distance\", var_name=\"NOM_USUEL_2\"\n",
    ").set_index(\"NOM_USUEL_2\", append=True)"
   ]
  },
  {
   "cell_type": "code",
   "execution_count": null,
   "metadata": {},
   "outputs": [],
   "source": [
    "correlation_vs_distance = pd.concat([correlation_serie, distance_serie], axis=1)\n",
    "\n",
    "correlation_vs_distance.reset_index().plot(\n",
    "    backend=\"plotly\",\n",
    "    x=\"Distance\",\n",
    "    y=\"Correlation\",\n",
    "    kind=\"scatter\",\n",
    "    hover_data=[\"NOM_USUEL\", \"NOM_USUEL_2\"],\n",
    ")"
   ]
  },
  {
   "cell_type": "code",
   "execution_count": null,
   "metadata": {},
   "outputs": [],
   "source": [
    "station_of_interest = \"DUNKERQUE\"\n",
    "\n",
    "correlation_map = px.scatter_mapbox(\n",
    "    station_info,\n",
    "    lat=\"LAT\",\n",
    "    lon=\"LON\",\n",
    "    color=correlation_matrix[station_of_interest],\n",
    "    hover_data=[\"NOM_USUEL\"],\n",
    "    color_continuous_scale=\"Jet\",\n",
    "    size=\"DURATION\",\n",
    ")\n",
    "\n",
    "correlation_map.update_layout(mapbox_style=\"carto-positron\", height=1200)"
   ]
  }
 ],
 "metadata": {
  "kernelspec": {
   "display_name": "surf",
   "language": "python",
   "name": "surf"
  },
  "language_info": {
   "codemirror_mode": {
    "name": "ipython",
    "version": 3
   },
   "file_extension": ".py",
   "mimetype": "text/x-python",
   "name": "python",
   "nbconvert_exporter": "python",
   "pygments_lexer": "ipython3",
   "version": "3.10.6"
  }
 },
 "nbformat": 4,
 "nbformat_minor": 2
}
