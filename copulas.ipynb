{
 "cells": [
  {
   "cell_type": "code",
   "execution_count": null,
   "metadata": {},
   "outputs": [],
   "source": [
    "from pathlib import Path\n",
    "import pandas as pd\n",
    "import plotly.express as px\n",
    "from sklearn.metrics.pairwise import haversine_distances\n",
    "import numpy as np\n",
    "from datetime import datetime\n",
    "import scipy.stats as scs\n",
    "from statsmodels.distributions.copula.api import GumbelCopula, GaussianCopula\n",
    "import matplotlib.pyplot as plt"
   ]
  },
  {
   "cell_type": "markdown",
   "metadata": {},
   "source": [
    "# 1. Loading the data"
   ]
  },
  {
   "cell_type": "code",
   "execution_count": null,
   "metadata": {},
   "outputs": [],
   "source": [
    "DATA_PATH = Path(\"data\")\n",
    "WEATHER_DATA_PATH = DATA_PATH / \"RR59\""
   ]
  },
  {
   "cell_type": "code",
   "execution_count": null,
   "metadata": {},
   "outputs": [],
   "source": [
    "weather_data = pd.read_csv(WEATHER_DATA_PATH / \"Q_59_previous-1950-2022_RR-T-Vent.csv\", sep = \";\", parse_dates=[\"AAAAMMJJ\"])"
   ]
  },
  {
   "cell_type": "markdown",
   "metadata": {},
   "source": [
    "## 1.1 Selecting two stations of interest"
   ]
  },
  {
   "cell_type": "code",
   "execution_count": null,
   "metadata": {},
   "outputs": [],
   "source": [
    "station_1 = \"DUNKERQUE\"\n",
    "station_2 = \"WATTEN\"\n",
    "\n",
    "joint_data = weather_data[weather_data[\"NOM_USUEL\"].isin([station_1, station_2])]\n",
    "joint_rainfall = joint_data.pivot_table(\n",
    "    index=\"AAAAMMJJ\", columns=\"NOM_USUEL\", values=\"RR\"\n",
    ")"
   ]
  },
  {
   "cell_type": "code",
   "execution_count": null,
   "metadata": {},
   "outputs": [],
   "source": [
    "m = px.scatter_mapbox(\n",
    "    joint_data.drop_duplicates(subset=[\"LAT\", \"LON\"]), lat=\"LAT\", lon=\"LON\"\n",
    ")\n",
    "m.update_layout(mapbox_style=\"carto-positron\")"
   ]
  },
  {
   "cell_type": "markdown",
   "metadata": {},
   "source": [
    "# 2. Time serie analysis"
   ]
  },
  {
   "cell_type": "code",
   "execution_count": null,
   "metadata": {},
   "outputs": [],
   "source": [
    "joint_rainfall.plot(backend = \"plotly\")"
   ]
  },
  {
   "cell_type": "code",
   "execution_count": null,
   "metadata": {},
   "outputs": [],
   "source": [
    "joint_rainfalls_corr = pd.DataFrame(\n",
    "    [\n",
    "        [\n",
    "            joint_rainfall[station_1].shift(i).corr(joint_rainfall[station_2].shift(j))\n",
    "            for i in range(0, 30)\n",
    "        ]\n",
    "        for j in range(0, 30)\n",
    "    ]\n",
    ")"
   ]
  },
  {
   "cell_type": "code",
   "execution_count": null,
   "metadata": {},
   "outputs": [],
   "source": [
    "px.imshow(\n",
    "    joint_rainfalls_corr,\n",
    "    width=1800,\n",
    "    height=1200,\n",
    "    color_continuous_scale=\"Jet\",\n",
    "    range_color=(0, 1),\n",
    ")"
   ]
  },
  {
   "cell_type": "markdown",
   "metadata": {},
   "source": [
    "# 3. Study pairwise relationship"
   ]
  },
  {
   "cell_type": "code",
   "execution_count": null,
   "metadata": {},
   "outputs": [],
   "source": [
    "threshold = 5\n",
    "\n",
    "extreme_joint_rainfalls = joint_rainfall[(joint_rainfall > threshold).all(axis=1)].reset_index()"
   ]
  },
  {
   "cell_type": "code",
   "execution_count": null,
   "metadata": {},
   "outputs": [],
   "source": [
    "extreme_joint_rainfalls.plot(\n",
    "    backend=\"plotly\",\n",
    "    kind=\"scatter\",\n",
    "    x=station_1,\n",
    "    y=station_2,\n",
    "    trendline=\"ols\",\n",
    "    marginal_x=\"histogram\",\n",
    "    marginal_y=\"histogram\",\n",
    "    height=1200,\n",
    ")"
   ]
  },
  {
   "cell_type": "markdown",
   "metadata": {},
   "source": [
    "# 3 Fitting marginals"
   ]
  },
  {
   "cell_type": "code",
   "execution_count": null,
   "metadata": {},
   "outputs": [],
   "source": [
    "var_range = np.linspace(threshold*2,100)"
   ]
  },
  {
   "cell_type": "code",
   "execution_count": null,
   "metadata": {},
   "outputs": [],
   "source": [
    "gompertz_fit_x = scs.gompertz.fit(extreme_joint_rainfalls[station_1])\n",
    "print(gompertz_fit_x)\n",
    "\n",
    "hist = extreme_joint_rainfalls[station_1].hist(\n",
    "    backend=\"plotly\", log_x=True, opacity=0.5, histnorm=\"probability\"\n",
    ")\n",
    "gompertz_plot = px.line(x=var_range, y=scs.gompertz.pdf(var_range, *gompertz_fit_x))\n",
    "hist.add_trace(gompertz_plot.data[0])"
   ]
  },
  {
   "cell_type": "code",
   "execution_count": null,
   "metadata": {},
   "outputs": [],
   "source": [
    "gompertz_fit_y = scs.gompertz.fit(extreme_joint_rainfalls[station_2])\n",
    "print(gompertz_fit_y)\n",
    "\n",
    "hist = extreme_joint_rainfalls[station_2].hist(\n",
    "    backend=\"plotly\", log_x=True, opacity=0.5, histnorm=\"probability\"\n",
    ")\n",
    "gompertz_plot = px.line(x=var_range, y=scs.gompertz.pdf(var_range, *gompertz_fit_y))\n",
    "hist.add_trace(gompertz_plot.data[0])"
   ]
  },
  {
   "cell_type": "markdown",
   "metadata": {},
   "source": [
    "# 4. Pairwise relationship"
   ]
  },
  {
   "cell_type": "code",
   "execution_count": null,
   "metadata": {},
   "outputs": [],
   "source": [
    "x_ppf = scs.gompertz.cdf(extreme_joint_rainfalls[station_1], *gompertz_fit_x)\n",
    "y_ppf = scs.gompertz.cdf(extreme_joint_rainfalls[station_2], *gompertz_fit_y)"
   ]
  },
  {
   "cell_type": "code",
   "execution_count": null,
   "metadata": {},
   "outputs": [],
   "source": [
    "plt.scatter(x_ppf, y_ppf, s=1)"
   ]
  },
  {
   "cell_type": "code",
   "execution_count": null,
   "metadata": {},
   "outputs": [],
   "source": [
    "plt.hexbin(x=x_ppf, y=y_ppf, gridsize=30)"
   ]
  },
  {
   "cell_type": "code",
   "execution_count": null,
   "metadata": {},
   "outputs": [],
   "source": [
    "corr = GaussianCopula().fit_corr_param(\n",
    "    data=extreme_joint_rainfalls[[station_1, station_2]]\n",
    ")\n",
    "gaussian_copula = GaussianCopula(corr=corr)\n",
    "_ = gaussian_copula.plot_pdf()"
   ]
  },
  {
   "cell_type": "code",
   "execution_count": null,
   "metadata": {},
   "outputs": [],
   "source": [
    "corr = GumbelCopula().fit_corr_param(\n",
    "    data=extreme_joint_rainfalls[[station_1, station_2]]\n",
    ")\n",
    "gumbel_copula = GumbelCopula(theta=corr)\n",
    "_ = gumbel_copula.plot_pdf()"
   ]
  },
  {
   "cell_type": "markdown",
   "metadata": {},
   "source": [
    "# 5. Sample data"
   ]
  },
  {
   "cell_type": "code",
   "execution_count": null,
   "metadata": {},
   "outputs": [],
   "source": [
    "N = int(1e6)"
   ]
  },
  {
   "cell_type": "code",
   "execution_count": null,
   "metadata": {},
   "outputs": [],
   "source": [
    "u = gumbel_copula.rvs(N)"
   ]
  },
  {
   "cell_type": "code",
   "execution_count": null,
   "metadata": {},
   "outputs": [],
   "source": [
    "plt.hexbin(u[:, 0], u[:, 1], gridsize = 25)"
   ]
  },
  {
   "cell_type": "code",
   "execution_count": null,
   "metadata": {},
   "outputs": [],
   "source": [
    "plt.hist(u[:, 0])"
   ]
  },
  {
   "cell_type": "code",
   "execution_count": null,
   "metadata": {},
   "outputs": [],
   "source": [
    "sample_x = scs.gompertz.ppf(u[:, 0], *gompertz_fit_x)\n",
    "sample_y = scs.gompertz.ppf(u[:, 1], *gompertz_fit_y)"
   ]
  },
  {
   "cell_type": "code",
   "execution_count": null,
   "metadata": {},
   "outputs": [],
   "source": [
    "plt.scatter(sample_x, sample_y, s = 0.2)"
   ]
  },
  {
   "cell_type": "markdown",
   "metadata": {},
   "source": [
    "What is the return period of an event trigerring both stations at 40mm rainfall ?"
   ]
  },
  {
   "cell_type": "code",
   "execution_count": null,
   "metadata": {},
   "outputs": [],
   "source": [
    "1/((sample_x > 50) & (sample_y > 50)).mean()"
   ]
  }
 ],
 "metadata": {
  "kernelspec": {
   "display_name": "surf",
   "language": "python",
   "name": "surf"
  },
  "language_info": {
   "codemirror_mode": {
    "name": "ipython",
    "version": 3
   },
   "file_extension": ".py",
   "mimetype": "text/x-python",
   "name": "python",
   "nbconvert_exporter": "python",
   "pygments_lexer": "ipython3",
   "version": "3.10.6"
  }
 },
 "nbformat": 4,
 "nbformat_minor": 2
}
