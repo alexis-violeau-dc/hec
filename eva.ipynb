{
 "cells": [
  {
   "cell_type": "code",
   "execution_count": null,
   "metadata": {},
   "outputs": [],
   "source": [
    "from pathlib import Path\n",
    "import pandas as pd\n",
    "import plotly.express as px\n",
    "from sklearn.metrics.pairwise import haversine_distances\n",
    "import numpy as np\n",
    "from datetime import datetime\n",
    "import scipy.stats as scs"
   ]
  },
  {
   "cell_type": "markdown",
   "metadata": {},
   "source": [
    "# 1. Loading the data"
   ]
  },
  {
   "cell_type": "code",
   "execution_count": null,
   "metadata": {},
   "outputs": [],
   "source": [
    "DATA_PATH = Path(\"data\")\n",
    "WEATHER_DATA_PATH = DATA_PATH / \"RR59\""
   ]
  },
  {
   "cell_type": "code",
   "execution_count": null,
   "metadata": {},
   "outputs": [],
   "source": [
    "weather_data = pd.read_csv(WEATHER_DATA_PATH / \"Q_59_previous-1950-2022_RR-T-Vent.csv\", sep = \";\", parse_dates=[\"AAAAMMJJ\"])"
   ]
  },
  {
   "cell_type": "markdown",
   "metadata": {},
   "source": [
    "## 1.1 Selecting one station of interest"
   ]
  },
  {
   "cell_type": "code",
   "execution_count": null,
   "metadata": {},
   "outputs": [],
   "source": [
    "station_of_interest = \"DUNKERQUE\""
   ]
  },
  {
   "cell_type": "code",
   "execution_count": null,
   "metadata": {},
   "outputs": [],
   "source": [
    "dunkerque_data = weather_data[weather_data[\"NOM_USUEL\"] == station_of_interest]\n",
    "dunkerque_rainfall = dunkerque_data.set_index(\"AAAAMMJJ\")[\"RR\"]"
   ]
  },
  {
   "cell_type": "markdown",
   "metadata": {},
   "source": [
    "# 2. Time serie analysis"
   ]
  },
  {
   "cell_type": "code",
   "execution_count": null,
   "metadata": {},
   "outputs": [],
   "source": [
    "dunkerque_rainfall.plot(backend=\"plotly\")"
   ]
  },
  {
   "cell_type": "code",
   "execution_count": null,
   "metadata": {},
   "outputs": [],
   "source": [
    "autocorr = pd.Series(\n",
    "    [dunkerque_rainfall.autocorr(lag=i) for i in range(0, 30)],\n",
    "    name=\"Autocorrelation\",\n",
    "    index=range(0, 30),\n",
    ")"
   ]
  },
  {
   "cell_type": "code",
   "execution_count": null,
   "metadata": {},
   "outputs": [],
   "source": [
    "autocorr.plot(backend=\"plotly\")"
   ]
  },
  {
   "cell_type": "markdown",
   "metadata": {},
   "source": [
    "# 3. Study yearly maximum"
   ]
  },
  {
   "cell_type": "markdown",
   "metadata": {},
   "source": [
    "## 3.1 Resampling data"
   ]
  },
  {
   "cell_type": "code",
   "execution_count": null,
   "metadata": {},
   "outputs": [],
   "source": [
    "yearly_max = dunkerque_rainfall.resample(\"1y\").max()"
   ]
  },
  {
   "cell_type": "code",
   "execution_count": null,
   "metadata": {},
   "outputs": [],
   "source": [
    "yearly_max.hist(backend=\"plotly\", nbins=100, histnorm=\"probability\", opacity = 0.5)"
   ]
  },
  {
   "cell_type": "markdown",
   "metadata": {},
   "source": [
    "## 3.2 Try different statistical fit on data"
   ]
  },
  {
   "cell_type": "code",
   "execution_count": null,
   "metadata": {},
   "outputs": [],
   "source": [
    "x = np.linspace(1, 100, num=101)"
   ]
  },
  {
   "cell_type": "code",
   "execution_count": null,
   "metadata": {},
   "outputs": [],
   "source": [
    "norm_parameters = scs.norm.fit(yearly_max)\n",
    "\n",
    "fig = yearly_max.hist(backend=\"plotly\", nbins=100, histnorm=\"probability\", opacity = 0.5)\n",
    "norm_plot = px.line(x=x, y=scs.norm.pdf(x, *norm_parameters), labels=\"Normal fit\")\n",
    "\n",
    "fig.add_trace(norm_plot.data[0])"
   ]
  },
  {
   "cell_type": "code",
   "execution_count": null,
   "metadata": {},
   "outputs": [],
   "source": [
    "gumbel_parameters = scs.gumbel_r.fit(yearly_max)\n",
    "gumbel_plot = px.line(\n",
    "    x=x, y=scs.gumbel_r.pdf(x, *gumbel_parameters), labels=\"Gumbel fit\"\n",
    ")\n",
    "\n",
    "gompertz_parameters = scs.gompertz.fit(yearly_max)\n",
    "gompertz_plot = px.line(\n",
    "    x=x, y=scs.gompertz.pdf(x, *gompertz_parameters), labels=\"Gompertz fit\"\n",
    ")\n",
    "\n",
    "weibull_parameters = scs.weibull_max.fit(yearly_max)\n",
    "weibull_plot = px.line(\n",
    "    x=x, y=scs.weibull_max.pdf(x, *weibull_parameters), labels=\"Gumbel fit\"\n",
    ")\n",
    "\n",
    "fig = yearly_max.hist(backend=\"plotly\", nbins=100, histnorm=\"probability\", opacity=0.5)\n",
    "\n",
    "\n",
    "fig.add_trace(gumbel_plot.data[0])\n",
    "fig.add_trace(weibull_plot.data[0])\n",
    "fig.add_trace(gompertz_plot.data[0])"
   ]
  },
  {
   "cell_type": "code",
   "execution_count": null,
   "metadata": {},
   "outputs": [],
   "source": [
    "gumbel_parameters = scs.gumbel_r.fit(yearly_max)\n",
    "\n",
    "fig = yearly_max.hist(backend=\"plotly\", nbins=100, histnorm=\"probability\", opacity=0.5)\n",
    "gumbel_plot = px.line(\n",
    "    x=x, y=scs.gumbel_r.pdf(x, *gumbel_parameters), labels=\"Gumbel fit\"\n",
    ")\n",
    "\n",
    "fig.add_trace(gumbel_plot.data[0])"
   ]
  },
  {
   "cell_type": "code",
   "execution_count": null,
   "metadata": {},
   "outputs": [],
   "source": [
    "pareto_parameters = scs.pareto.fit(yearly_max)\n",
    "\n",
    "fig = yearly_max.hist(backend=\"plotly\", nbins=100, histnorm=\"probability\", opacity=0.5)\n",
    "pareto_plot = px.line(x=x, y=scs.pareto.pdf(x, *pareto_parameters), labels=\"Pareto fit\")\n",
    "\n",
    "fig.add_trace(pareto_plot.data[0])"
   ]
  },
  {
   "cell_type": "markdown",
   "metadata": {},
   "source": [
    "## 3.3 Compare Exceedance probabilities of different distributions"
   ]
  },
  {
   "cell_type": "code",
   "execution_count": null,
   "metadata": {},
   "outputs": [],
   "source": [
    "px.line(\n",
    "    x=x,\n",
    "    y=[\n",
    "        scs.norm.sf(x, *norm_parameters),\n",
    "        scs.gumbel_r.sf(x, *gumbel_parameters),\n",
    "        scs.pareto.sf(x, *pareto_parameters),\n",
    "    ],\n",
    "    labels=[\"Normal\", \"Gumbel\", \"Pareto\"],\n",
    "    log_x=True,\n",
    "    log_y=True,\n",
    ")"
   ]
  },
  {
   "cell_type": "code",
   "execution_count": null,
   "metadata": {},
   "outputs": [],
   "source": [
    "gumbel_over_norm = scs.gumbel_r.sf(x, *gumbel_parameters) / scs.norm.sf(\n",
    "    x, *norm_parameters\n",
    ")\n",
    "pareto_over_norm = scs.pareto.sf(x, *pareto_parameters) / scs.norm.sf(\n",
    "    x, *norm_parameters\n",
    ")"
   ]
  },
  {
   "cell_type": "code",
   "execution_count": null,
   "metadata": {},
   "outputs": [],
   "source": [
    "px.line(x=x, y=[gumbel_over_norm, pareto_over_norm], log_x = True, log_y = True)"
   ]
  },
  {
   "cell_type": "markdown",
   "metadata": {},
   "source": [
    "# 4. Numerical approximations"
   ]
  },
  {
   "cell_type": "code",
   "execution_count": null,
   "metadata": {},
   "outputs": [],
   "source": [
    "gumbel_parameters_mle = scs.gumbel_r.fit(yearly_max, method=\"MLE\")\n",
    "gumbel_parameters_mm = scs.gumbel_r.fit(yearly_max, method=\"MM\")"
   ]
  },
  {
   "cell_type": "code",
   "execution_count": null,
   "metadata": {},
   "outputs": [],
   "source": [
    "px.line(\n",
    "    x=x,\n",
    "    y=[\n",
    "        scs.gumbel_r.sf(x, *gumbel_parameters_mle),\n",
    "        scs.gumbel_r.sf(x, *gumbel_parameters_mm),\n",
    "    ],\n",
    "    log_x=True,\n",
    "    log_y=True,\n",
    ")"
   ]
  },
  {
   "cell_type": "markdown",
   "metadata": {},
   "source": [
    "# 5. Pyextremes pipeline"
   ]
  },
  {
   "cell_type": "markdown",
   "metadata": {},
   "source": [
    "## 5.1 Block Maxima"
   ]
  },
  {
   "cell_type": "code",
   "execution_count": null,
   "metadata": {},
   "outputs": [],
   "source": [
    "from pyextremes import EVA\n",
    "\n",
    "model_bm = EVA(dunkerque_rainfall)"
   ]
  },
  {
   "cell_type": "code",
   "execution_count": null,
   "metadata": {},
   "outputs": [],
   "source": [
    "model_bm.get_extremes(method=\"BM\", block_size=\"365.2425D\")\n",
    "model_bm.plot_extremes()\n"
   ]
  },
  {
   "cell_type": "code",
   "execution_count": null,
   "metadata": {},
   "outputs": [],
   "source": [
    "model_bm.fit_model()\n",
    "model_bm.plot_diagnostic(alpha=0.95)"
   ]
  },
  {
   "cell_type": "code",
   "execution_count": null,
   "metadata": {},
   "outputs": [],
   "source": [
    "fig, ax = model_bm.plot_diagnostic(alpha=0.95)"
   ]
  },
  {
   "cell_type": "code",
   "execution_count": null,
   "metadata": {},
   "outputs": [],
   "source": [
    "fig"
   ]
  },
  {
   "cell_type": "markdown",
   "metadata": {},
   "source": [
    "## 5.2 POT"
   ]
  },
  {
   "cell_type": "code",
   "execution_count": null,
   "metadata": {},
   "outputs": [],
   "source": [
    "model_pot = EVA(dunkerque_rainfall)\n"
   ]
  },
  {
   "cell_type": "code",
   "execution_count": null,
   "metadata": {},
   "outputs": [],
   "source": [
    "model_pot.get_extremes(method=\"POT\", threshold=40)\n",
    "fig, ax = model_pot.plot_extremes()"
   ]
  },
  {
   "cell_type": "code",
   "execution_count": null,
   "metadata": {},
   "outputs": [],
   "source": [
    "fig"
   ]
  },
  {
   "cell_type": "code",
   "execution_count": null,
   "metadata": {},
   "outputs": [],
   "source": [
    "model_pot.fit_model()"
   ]
  },
  {
   "cell_type": "code",
   "execution_count": null,
   "metadata": {},
   "outputs": [],
   "source": [
    "\n",
    "fig, ax = model_pot.plot_diagnostic(alpha=0.95)"
   ]
  },
  {
   "cell_type": "code",
   "execution_count": null,
   "metadata": {},
   "outputs": [],
   "source": [
    "fig"
   ]
  },
  {
   "cell_type": "markdown",
   "metadata": {},
   "source": [
    "# 6. Conclusion"
   ]
  },
  {
   "cell_type": "markdown",
   "metadata": {},
   "source": [
    "What is the return period (in years) of a daily rainfall superior than 80cm at Dunkerque ?"
   ]
  },
  {
   "cell_type": "markdown",
   "metadata": {},
   "source": []
  }
 ],
 "metadata": {
  "kernelspec": {
   "display_name": "surf",
   "language": "python",
   "name": "surf"
  },
  "language_info": {
   "codemirror_mode": {
    "name": "ipython",
    "version": 3
   },
   "file_extension": ".py",
   "mimetype": "text/x-python",
   "name": "python",
   "nbconvert_exporter": "python",
   "pygments_lexer": "ipython3",
   "version": "3.10.6"
  }
 },
 "nbformat": 4,
 "nbformat_minor": 2
}
