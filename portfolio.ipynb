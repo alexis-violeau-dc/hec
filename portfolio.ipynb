{
 "cells": [
  {
   "cell_type": "code",
   "execution_count": null,
   "metadata": {},
   "outputs": [],
   "source": [
    "from pathlib import Path\n",
    "import xarray as xr\n",
    "from datetime import datetime\n",
    "import pandas as pd\n",
    "import plotly.express as px"
   ]
  },
  {
   "cell_type": "markdown",
   "metadata": {},
   "source": [
    "# 1. Loading the data"
   ]
  },
  {
   "cell_type": "code",
   "execution_count": null,
   "metadata": {},
   "outputs": [],
   "source": [
    "DATA_PATH = Path(\"data\")\n",
    "COPERNICUS_DATA_PATH = DATA_PATH / \"COPERNICUS\"\n",
    "\n",
    "folder_name = \"historical\"\n",
    "file_name = \"preprocessed.nc\""
   ]
  },
  {
   "cell_type": "code",
   "execution_count": null,
   "metadata": {},
   "outputs": [],
   "source": [
    "raw_data = xr.load_dataset(COPERNICUS_DATA_PATH / folder_name / file_name)"
   ]
  },
  {
   "cell_type": "code",
   "execution_count": null,
   "metadata": {},
   "outputs": [],
   "source": [
    "rainfall = raw_data[\"RR\"]"
   ]
  },
  {
   "cell_type": "markdown",
   "metadata": {},
   "source": [
    "# 2. Exploration"
   ]
  },
  {
   "cell_type": "code",
   "execution_count": null,
   "metadata": {},
   "outputs": [],
   "source": [
    "dunkerque_coords = (51.0413242745524, 2.3725602487522712)\n",
    "\n",
    "dunkerque_rainfall = rainfall.sel(\n",
    "    lat=dunkerque_coords[0], lon=dunkerque_coords[1], method=\"nearest\", drop=True\n",
    ")"
   ]
  },
  {
   "cell_type": "code",
   "execution_count": null,
   "metadata": {},
   "outputs": [],
   "source": [
    "dunkerque_rainfall.plot()"
   ]
  },
  {
   "cell_type": "code",
   "execution_count": null,
   "metadata": {},
   "outputs": [],
   "source": [
    "event_map = rainfall.sel(time=datetime(1996, 9, 3), method=\"nearest\", drop=True)"
   ]
  },
  {
   "cell_type": "code",
   "execution_count": null,
   "metadata": {},
   "outputs": [],
   "source": [
    "event_map.plot()"
   ]
  },
  {
   "cell_type": "markdown",
   "metadata": {},
   "source": [
    "# 3. Read exposures"
   ]
  },
  {
   "cell_type": "code",
   "execution_count": null,
   "metadata": {},
   "outputs": [],
   "source": [
    "locations = pd.read_csv(COPERNICUS_DATA_PATH / \"locations.csv\")"
   ]
  },
  {
   "cell_type": "code",
   "execution_count": null,
   "metadata": {},
   "outputs": [],
   "source": [
    "location_map = px.scatter_mapbox(\n",
    "    locations, lat=\"Latitude\", lon=\"Longitude\", size=\"Exposure\", size_max=100\n",
    ")\n",
    "location_map.update_layout(mapbox_style=\"carto-positron\", height=1200)"
   ]
  },
  {
   "cell_type": "markdown",
   "metadata": {},
   "source": [
    "# 4. Merge exposure to historical data"
   ]
  },
  {
   "cell_type": "code",
   "execution_count": null,
   "metadata": {},
   "outputs": [],
   "source": [
    "rainfall_data = pd.DataFrame(index=pd.Index(rainfall[\"time\"], name=\"Datetime\"))\n",
    "\n",
    "for _, location in locations.iterrows():\n",
    "    rainfall_data[location[\"Address\"]] = rainfall.sel(\n",
    "        lat=location[\"Latitude\"], lon=location[\"Longitude\"], method=\"nearest\", drop=True\n",
    "    )"
   ]
  },
  {
   "cell_type": "code",
   "execution_count": null,
   "metadata": {},
   "outputs": [],
   "source": [
    "TRIGGER = 80\n",
    "EXHAUST = 120\n",
    "\n",
    "\n",
    "def payout_function(yearly_max: pd.Series, exposure: float) -> pd.Series:\n",
    "    return (\n",
    "        (yearly_max.clip(lower=TRIGGER, upper=EXHAUST) - TRIGGER)\n",
    "        / (EXHAUST - TRIGGER)\n",
    "        * exposure\n",
    "    )\n",
    "\n",
    "\n",
    "sample_yearly_max = pd.Series(range(0, 200))\n",
    "payout_function(sample_yearly_max, exposure=1e5).plot(backend=\"plotly\")"
   ]
  },
  {
   "cell_type": "markdown",
   "metadata": {},
   "source": [
    "# 5. Task"
   ]
  },
  {
   "cell_type": "markdown",
   "metadata": {},
   "source": [
    "You have been proposed to cover rainfall exposure for 8 locations in north / east of France. Each location has an exposure that corresponds to its population.\\\n",
    "The cover has the following behavior : \n",
    "- We get the index from the data provider that corresponds to the 10-day cummulative rainfall at the nearest grid point. \n",
    "- We compute the yearly maximum of this index.\n",
    "- Depending on this value, we give a payout, proportionnal to the exposure, that depends on the index value.\n",
    "\n",
    "The payout function has the following caracteristics :\n",
    "- If lower than 8mm, no payout is received.\n",
    "- If higher than 16mm, a full payout is triggered (= exposure).\n",
    "- Between these two values, we compute a linearly interpolated payout.\n"
   ]
  },
  {
   "cell_type": "markdown",
   "metadata": {},
   "source": [
    "Your company [choose your nam] has to propose, for each location, a yearly risk premium that you would receive in exchange of the risk. Risk premium are usually defined as a % over the exposure. \\\n",
    "For example, if we charge 10% premium for Lille - with an exposure of 236710 - we get 23671 each year.\n",
    "\n",
    "The game has the following rules :\n",
    "1. Among all competing teams, only the one with lowest price will win the contract. It means that this team receive the yearly premium at the begining of the year.\n",
    "2. In case of equality between some team in rule 1., the priority goes to the team with highest credit at this stage of the game. The choice become random if number of credits is equal.\n",
    "3. The team that has a contract in a given year has to pay in case of rainfall index higher than 80mm. The amount is defined by the payout function. As the payout is based on yearly maximum index, the team cannot pay more than the exposure every year.\n",
    "4. In case you don't have enough credit to pay a given claim, you go bankrupt and do not participate in the game anymore. The game continue for the other remaining teams.\n",
    "5. The game will be performed on different scenarii of 90 simulated years. The team with highest amount of credit at the end wins."
   ]
  },
  {
   "cell_type": "markdown",
   "metadata": {},
   "source": [
    "## 6. Strategy outlook"
   ]
  },
  {
   "cell_type": "markdown",
   "metadata": {},
   "source": [
    "Overview of possible strategies : \n",
    "\n",
    "- If you go low pricing, you will win all the contracts but you will in average loose money (if the risk premium is too low). You will go bankrupt soon in the game, hence loose.\n",
    "- If you're pricing is too high, you will have no contract, and hence no opportunity to win credits.\n",
    "- If you only select couple of locations to focus on, your portfolio won't be diversified, and you could loose the game in case of bad luck (event on your single location)\n",
    "- You have to provide a fair pricing, that corresponds to the risk while being lower than your competitors. Ideally, you can select a diversified portfolio and sustained during 90 years.\n",
    "\n",
    "Please note that no use of external data is allowed.\n",
    "\n",
    "Generally speaking, there are some chances that an event with return period <100 years will happen during the 90 simulated years. Your company should sustain such an event."
   ]
  },
  {
   "cell_type": "markdown",
   "metadata": {},
   "source": [
    "## 7. Delivrable"
   ]
  },
  {
   "cell_type": "markdown",
   "metadata": {},
   "source": [
    "Each team will have to give a fixed price for the 8 locations based on a statistical analysis of your choice. You can either provide a fixed pricing that will be applied every round, or give a premium that depends on your amount of credit at the beginning of the round.\n",
    "\n",
    "You will have to explain your reasoning and strategy in a short 2 page document with some metrics justifying your technical choices and limitations."
   ]
  }
 ],
 "metadata": {
  "kernelspec": {
   "display_name": "surf",
   "language": "python",
   "name": "surf"
  },
  "language_info": {
   "codemirror_mode": {
    "name": "ipython",
    "version": 3
   },
   "file_extension": ".py",
   "mimetype": "text/x-python",
   "name": "python",
   "nbconvert_exporter": "python",
   "pygments_lexer": "ipython3",
   "version": "3.10.6"
  }
 },
 "nbformat": 4,
 "nbformat_minor": 2
}
